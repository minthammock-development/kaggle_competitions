{
  "nbformat": 4,
  "nbformat_minor": 0,
  "metadata": {
    "colab": {
      "name": "hubmap-kidney-segmentation",
      "provenance": [],
      "toc_visible": true,
      "mount_file_id": "18P7d-TpaDpG0n8kj57SjrZT6KhlZFyEJ",
      "authorship_tag": "ABX9TyO7zbdmcRlxmCd1BFmLgLoj",
      "include_colab_link": true
    },
    "kernelspec": {
      "name": "python3",
      "display_name": "Python 3"
    }
  },
  "cells": [
    {
      "cell_type": "markdown",
      "metadata": {
        "id": "view-in-github",
        "colab_type": "text"
      },
      "source": [
        "<a href=\"https://colab.research.google.com/github/minthammock-development/kaggle_competitions/blob/dev/hubmap_kidney_segmentation.ipynb\" target=\"_parent\"><img src=\"https://colab.research.google.com/assets/colab-badge.svg\" alt=\"Open In Colab\"/></a>"
      ]
    },
    {
      "cell_type": "markdown",
      "metadata": {
        "id": "UArQpc-Xu3Vl"
      },
      "source": [
        "# Mount OneDrive nonsense"
      ]
    },
    {
      "cell_type": "code",
      "metadata": {
        "colab": {
          "base_uri": "https://localhost:8080/"
        },
        "id": "e9ERsDItIq4x",
        "outputId": "e2fcb0db-cf4d-4175-fa53-56da74786242"
      },
      "source": [
        "!wget https://downloads.rclone.org/v1.54.1/rclone-v1.54.1-linux-amd64.deb\r\n",
        "! apt install ./rclone-v1.54.1-linux-amd64.deb"
      ],
      "execution_count": 27,
      "outputs": [
        {
          "output_type": "stream",
          "text": [
            "--2021-03-12 21:22:50--  https://downloads.rclone.org/v1.54.1/rclone-v1.54.1-linux-amd64.deb\n",
            "Resolving downloads.rclone.org (downloads.rclone.org)... 5.153.250.7, 2a02:24e0:8:61f9::1\n",
            "Connecting to downloads.rclone.org (downloads.rclone.org)|5.153.250.7|:443... connected.\n",
            "HTTP request sent, awaiting response... 200 OK\n",
            "Length: 14314950 (14M) [application/x-debian-package]\n",
            "Saving to: ‘rclone-v1.54.1-linux-amd64.deb.1’\n",
            "\n",
            "rclone-v1.54.1-linu 100%[===================>]  13.65M  13.8MB/s    in 1.0s    \n",
            "\n",
            "2021-03-12 21:22:51 (13.8 MB/s) - ‘rclone-v1.54.1-linux-amd64.deb.1’ saved [14314950/14314950]\n",
            "\n",
            "Reading package lists... Done\n",
            "Building dependency tree       \n",
            "Reading state information... Done\n",
            "Note, selecting 'rclone' instead of './rclone-v1.54.1-linux-amd64.deb'\n",
            "The following NEW packages will be installed:\n",
            "  rclone\n",
            "0 upgraded, 1 newly installed, 0 to remove and 29 not upgraded.\n",
            "Need to get 0 B/14.3 MB of archives.\n",
            "After this operation, 45.0 MB of additional disk space will be used.\n",
            "Get:1 /content/rclone-v1.54.1-linux-amd64.deb rclone amd64 1.54.1 [14.3 MB]\n",
            "Selecting previously unselected package rclone.\n",
            "(Reading database ... 160975 files and directories currently installed.)\n",
            "Preparing to unpack .../rclone-v1.54.1-linux-amd64.deb ...\n",
            "Unpacking rclone (1.54.1) ...\n",
            "Setting up rclone (1.54.1) ...\n",
            "Processing triggers for man-db (2.8.3-2ubuntu0.1) ...\n"
          ],
          "name": "stdout"
        }
      ]
    },
    {
      "cell_type": "code",
      "metadata": {
        "colab": {
          "base_uri": "https://localhost:8080/"
        },
        "id": "OqNWYnYAUkpW",
        "outputId": "f237673f-2740-408b-8cfe-2518367d3808"
      },
      "source": [
        "!rclone config"
      ],
      "execution_count": 28,
      "outputs": [
        {
          "output_type": "stream",
          "text": [
            "2021/03/12 21:23:12 NOTICE: Config file \"/root/.config/rclone/rclone.conf\" not found - using defaults\n",
            "No remotes found - make a new one\n",
            "n) New remote\n",
            "s) Set configuration password\n",
            "q) Quit config\n",
            "n/s/q> n\n",
            "name> OneDrive\n",
            "Type of storage to configure.\n",
            "Enter a string value. Press Enter for the default (\"\").\n",
            "Choose a number from below, or type in your own value\n",
            "\u001b[91m 1 / 1Fichier\n",
            "   \\ \"fichier\"\n",
            "\u001b[0m\u001b[92m 2 / Alias for an existing remote\n",
            "   \\ \"alias\"\n",
            "\u001b[0m\u001b[91m 3 / Amazon Drive\n",
            "   \\ \"amazon cloud drive\"\n",
            "\u001b[0m\u001b[92m 4 / Amazon S3 Compliant Storage Providers including AWS, Alibaba, Ceph, Digital Ocean, Dreamhost, IBM COS, Minio, and Tencent COS\n",
            "   \\ \"s3\"\n",
            "\u001b[0m\u001b[91m 5 / Backblaze B2\n",
            "   \\ \"b2\"\n",
            "\u001b[0m\u001b[92m 6 / Box\n",
            "   \\ \"box\"\n",
            "\u001b[0m\u001b[91m 7 / Cache a remote\n",
            "   \\ \"cache\"\n",
            "\u001b[0m\u001b[92m 8 / Citrix Sharefile\n",
            "   \\ \"sharefile\"\n",
            "\u001b[0m\u001b[91m 9 / Compress a remote\n",
            "   \\ \"compress\"\n",
            "\u001b[0m\u001b[92m10 / Dropbox\n",
            "   \\ \"dropbox\"\n",
            "\u001b[0m\u001b[91m11 / Encrypt/Decrypt a remote\n",
            "   \\ \"crypt\"\n",
            "\u001b[0m\u001b[92m12 / Enterprise File Fabric\n",
            "   \\ \"filefabric\"\n",
            "\u001b[0m\u001b[91m13 / FTP Connection\n",
            "   \\ \"ftp\"\n",
            "\u001b[0m\u001b[92m14 / Google Cloud Storage (this is not Google Drive)\n",
            "   \\ \"google cloud storage\"\n",
            "\u001b[0m\u001b[91m15 / Google Drive\n",
            "   \\ \"drive\"\n",
            "\u001b[0m\u001b[92m16 / Google Photos\n",
            "   \\ \"google photos\"\n",
            "\u001b[0m\u001b[91m17 / Hadoop distributed file system\n",
            "   \\ \"hdfs\"\n",
            "\u001b[0m\u001b[92m18 / Hubic\n",
            "   \\ \"hubic\"\n",
            "\u001b[0m\u001b[91m19 / In memory object storage system.\n",
            "   \\ \"memory\"\n",
            "\u001b[0m\u001b[92m20 / Jottacloud\n",
            "   \\ \"jottacloud\"\n",
            "\u001b[0m\u001b[91m21 / Koofr\n",
            "   \\ \"koofr\"\n",
            "\u001b[0m\u001b[92m22 / Local Disk\n",
            "   \\ \"local\"\n",
            "\u001b[0m\u001b[91m23 / Mail.ru Cloud\n",
            "   \\ \"mailru\"\n",
            "\u001b[0m\u001b[92m24 / Mega\n",
            "   \\ \"mega\"\n",
            "\u001b[0m\u001b[91m25 / Microsoft Azure Blob Storage\n",
            "   \\ \"azureblob\"\n",
            "\u001b[0m\u001b[92m26 / Microsoft OneDrive\n",
            "   \\ \"onedrive\"\n",
            "\u001b[0m\u001b[91m27 / OpenDrive\n",
            "   \\ \"opendrive\"\n",
            "\u001b[0m\u001b[92m28 / OpenStack Swift (Rackspace Cloud Files, Memset Memstore, OVH)\n",
            "   \\ \"swift\"\n",
            "\u001b[0m\u001b[91m29 / Pcloud\n",
            "   \\ \"pcloud\"\n",
            "\u001b[0m\u001b[92m30 / Put.io\n",
            "   \\ \"putio\"\n",
            "\u001b[0m\u001b[91m31 / QingCloud Object Storage\n",
            "   \\ \"qingstor\"\n",
            "\u001b[0m\u001b[92m32 / SSH/SFTP Connection\n",
            "   \\ \"sftp\"\n",
            "\u001b[0m\u001b[91m33 / Sugarsync\n",
            "   \\ \"sugarsync\"\n",
            "\u001b[0m\u001b[92m34 / Tardigrade Decentralized Cloud Storage\n",
            "   \\ \"tardigrade\"\n",
            "\u001b[0m\u001b[91m35 / Transparently chunk/split large files\n",
            "   \\ \"chunker\"\n",
            "\u001b[0m\u001b[92m36 / Union merges the contents of several upstream fs\n",
            "   \\ \"union\"\n",
            "\u001b[0m\u001b[91m37 / Webdav\n",
            "   \\ \"webdav\"\n",
            "\u001b[0m\u001b[92m38 / Yandex Disk\n",
            "   \\ \"yandex\"\n",
            "\u001b[0m\u001b[91m39 / Zoho\n",
            "   \\ \"zoho\"\n",
            "\u001b[0m\u001b[92m40 / http Connection\n",
            "   \\ \"http\"\n",
            "\u001b[0m\u001b[91m41 / premiumize.me\n",
            "   \\ \"premiumizeme\"\n",
            "\u001b[0m\u001b[92m42 / seafile\n",
            "   \\ \"seafile\"\n",
            "\u001b[0mStorage> 26\n",
            "** See help for onedrive backend at: https://rclone.org/onedrive/ **\n",
            "\n",
            "OAuth Client Id\n",
            "Leave blank normally.\n",
            "Enter a string value. Press Enter for the default (\"\").\n",
            "client_id> \n",
            "OAuth Client Secret\n",
            "Leave blank normally.\n",
            "Enter a string value. Press Enter for the default (\"\").\n",
            "client_secret> \n",
            "Choose national cloud region for OneDrive.\n",
            "Enter a string value. Press Enter for the default (\"global\").\n",
            "Choose a number from below, or type in your own value\n",
            "\u001b[91m 1 / Microsoft Cloud Global\n",
            "   \\ \"global\"\n",
            "\u001b[0m\u001b[92m 2 / Microsoft Cloud for US Government\n",
            "   \\ \"us\"\n",
            "\u001b[0m\u001b[91m 3 / Microsoft Cloud Germany\n",
            "   \\ \"de\"\n",
            "\u001b[0m\u001b[92m 4 / Azure and Office 365 operated by 21Vianet in China\n",
            "   \\ \"cn\"\n",
            "\u001b[0mregion> global\n",
            "Edit advanced config? (y/n)\n",
            "y) Yes\n",
            "n) No (default)\n",
            "y/n> \n",
            "Remote config\n",
            "Use auto config?\n",
            " * Say Y if not sure\n",
            " * Say N if you are working on a remote or headless machine\n",
            "y) Yes (default)\n",
            "n) No\n",
            "y/n> n\n",
            "For this to work, you will need rclone available on a machine that has\n",
            "a web browser available.\n",
            "\n",
            "For more help and alternate methods see: https://rclone.org/remote_setup/\n",
            "\n",
            "Execute the following on the machine with the web browser (same rclone\n",
            "version recommended):\n",
            "\n",
            "\trclone authorize \"onedrive\"\n",
            "\n",
            "Then paste the result below:\n",
            "result> {\"access_token\":\"EwBwA8l6BAAU6k7+XVQzkGyMv7VHB/h4cHbJYRAAAdiaTY+0sXFLH91K8wmZ/K6EOSAWZHG9tqSVFiRtai4eJ2DyATwsikXsbH+bwKwQpiUlfReNBtRZlR0Fl2m/wFyF8WQU7NqFHdGPDhuazIN/1ZfgFI4z8qbNKhvcowYZ6tmOQwCGMM4m05fDGHGGhBBHJX8O+KxU1XXFKw6DSs8mfx7JrO1zc8nBSormuACQ+Go8kTliXyiX17qgd/Kh0/ifdVPok25j+VqdnNXAR4xy1ULOQ8Yo7NC3UbRh1dGU3s0wkn9WX+mtMFe2MF9tae2ywPPz2mYaEUbPTHLQXJg5A6oJIN0g2h6yFMicep529cWK0wdCRrtZj9e38a5qTyADZgAACOL/WjNSzj6gQAJsiFKeOXy3HWn7ha2hlWzWoo+91Xsj0bDh5EczaVyKHntywLDbNgoFkfi+zRosfmiNbTYC3xpG+ZHIZv1ikKL3xS1A0a/uxOkTAX1vZ6ikBeG2airWA4im7McJTeT6S7tqT1SCGWukhobMOzUrumRAd1BaC7BB2OfRj2w9CtVbKnu6G0td7SeLF9X1iGp4bJAQCDVpEcyexbSBzXy+ywX8QKjai69rICboPX6dH8ZOya2j/H0lCXtHKPgSjdKbm2OLakXdAieuofpCl76HthLlgtB5K/o6PeybbT8hu4+PlU76bzaa1KhcQlN0JdCV/rbaNpkQ5fDuVoZ10p1v1UCCi8MzwtJoY5ZIz8emcVZbUbL9DVAwUuMUELos1BO9a0ZZ08uinH4P2VgdkaVGoXoWio5ANjGzELlxLFmMPE7VByqBMuAledGTr+0BCsMMay7KoJMPBtmAnH3Wnhmj1lw+FawSMtkfQohu8VUI1HMeq8hXmyVhZdnkFBeG2LaWmgyMnobl0sVEzR3GBt+KJlx+pnXj1Y8DhQqO3vPE9Qnl8AHH+wFrevgYcbesftJPLRST/OpuSY5zWEi/HEtv/8PmIEntvi6rVoEOhQ9nP3hyX7dugfFxQP5z7KtDysCIB8W2RRzGN5+946RpNqXiC0kKcYBkjJXs0TmuLgOghyGUbPs5gW3GARcckHkJPvR62q4MWA2236LGCgaMKgOLg+1dKBMHZesvJ5ylSl6tZp39hc7clCxwviTG4Yf1SGsV6pWUAg==\",\"token_type\":\"Bearer\",\"refresh_token\":\"M.R3_BAY.CY27mZ!wpWNp52zMCpy97YNsKxW5Uro6e*EuKMHza2BT0rdiK3TUnX1axGba7V7FLGENoQJruKYgrMoWIp01TNBwwg2gMZdSuT5jaiocN5pm4L0TbHFGQISainpst!9VeOqh83R85eeiQZ!YsuTYKeYVSA3JvwweuiQ5MBqFAn2AzgRmu5X0FeUDynjrGOhWwgD5FJiBoI9zW2LTKPBOf12tq4gJaajtFwFZG7SEO8wuaOq*cYqnMcYyqisz8MJNHkVVLXanno1vDR*c7qSyHW6eTDAk*NZbyYXJU6FZHlWB7se8sgYlDGLZSDLVWfhHvNuLqsnhyTnVhceZELZn*9DpRmv62eBPZtFNpEu*rp3K8vVUOljCgHIR639dLh4Gw4W9DHHT2ZRhFcn7vz9Pj4dwIatAO2tCe5pEIIo07lKYsKh1N*O2xxehl0AbkqW**WoJzBmXusP1ifFgxMqDAS4$\",\"expiry\":\"2021-03-12T15:09:41.401376-07:00\"}\n",
            "Choose a number from below, or type in an existing value\n",
            "\u001b[91m 1 / OneDrive Personal or Business\n",
            "   \\ \"onedrive\"\n",
            "\u001b[0m\u001b[92m 2 / Root Sharepoint site\n",
            "   \\ \"sharepoint\"\n",
            "\u001b[0m\u001b[91m 3 / Sharepoint site name or URL (e.g. mysite or https://contoso.sharepoint.com/sites/mysite)\n",
            "   \\ \"url\"\n",
            "\u001b[0m\u001b[92m 4 / Search for a Sharepoint site\n",
            "   \\ \"search\"\n",
            "\u001b[0m\u001b[91m 5 / Type in driveID (advanced)\n",
            "   \\ \"driveid\"\n",
            "\u001b[0m\u001b[92m 6 / Type in SiteID (advanced)\n",
            "   \\ \"siteid\"\n",
            "\u001b[0m\u001b[91m 7 / Sharepoint server-relative path (advanced, e.g. /teams/hr)\n",
            "   \\ \"path\"\n",
            "\u001b[0mYour choice> 1\n",
            "Found 1 drives, please select the one you want to use:\n",
            "0:  (personal) id=df92e9667c24698\n",
            "Chose drive to use:> 0\n",
            "Found drive 'root' of type 'personal', URL: https://onedrive.live.com/?cid=0df92e9667c24698\n",
            "Is that okay?\n",
            "y) Yes (default)\n",
            "n) No\n",
            "y/n> y\n",
            "--------------------\n",
            "[OneDrive]\n",
            "type = onedrive\n",
            "region = global\n",
            "token = {\"access_token\":\"EwBwA8l6BAAU6k7+XVQzkGyMv7VHB/h4cHbJYRAAAdiaTY+0sXFLH91K8wmZ/K6EOSAWZHG9tqSVFiRtai4eJ2DyATwsikXsbH+bwKwQpiUlfReNBtRZlR0Fl2m/wFyF8WQU7NqFHdGPDhuazIN/1ZfgFI4z8qbNKhvcowYZ6tmOQwCGMM4m05fDGHGGhBBHJX8O+KxU1XXFKw6DSs8mfx7JrO1zc8nBSormuACQ+Go8kTliXyiX17qgd/Kh0/ifdVPok25j+VqdnNXAR4xy1ULOQ8Yo7NC3UbRh1dGU3s0wkn9WX+mtMFe2MF9tae2ywPPz2mYaEUbPTHLQXJg5A6oJIN0g2h6yFMicep529cWK0wdCRrtZj9e38a5qTyADZgAACOL/WjNSzj6gQAJsiFKeOXy3HWn7ha2hlWzWoo+91Xsj0bDh5EczaVyKHntywLDbNgoFkfi+zRosfmiNbTYC3xpG+ZHIZv1ikKL3xS1A0a/uxOkTAX1vZ6ikBeG2airWA4im7McJTeT6S7tqT1SCGWukhobMOzUrumRAd1BaC7BB2OfRj2w9CtVbKnu6G0td7SeLF9X1iGp4bJAQCDVpEcyexbSBzXy+ywX8QKjai69rICboPX6dH8ZOya2j/H0lCXtHKPgSjdKbm2OLakXdAieuofpCl76HthLlgtB5K/o6PeybbT8hu4+PlU76bzaa1KhcQlN0JdCV/rbaNpkQ5fDuVoZ10p1v1UCCi8MzwtJoY5ZIz8emcVZbUbL9DVAwUuMUELos1BO9a0ZZ08uinH4P2VgdkaVGoXoWio5ANjGzELlxLFmMPE7VByqBMuAledGTr+0BCsMMay7KoJMPBtmAnH3Wnhmj1lw+FawSMtkfQohu8VUI1HMeq8hXmyVhZdnkFBeG2LaWmgyMnobl0sVEzR3GBt+KJlx+pnXj1Y8DhQqO3vPE9Qnl8AHH+wFrevgYcbesftJPLRST/OpuSY5zWEi/HEtv/8PmIEntvi6rVoEOhQ9nP3hyX7dugfFxQP5z7KtDysCIB8W2RRzGN5+946RpNqXiC0kKcYBkjJXs0TmuLgOghyGUbPs5gW3GARcckHkJPvR62q4MWA2236LGCgaMKgOLg+1dKBMHZesvJ5ylSl6tZp39hc7clCxwviTG4Yf1SGsV6pWUAg==\",\"token_type\":\"Bearer\",\"refresh_token\":\"M.R3_BAY.CY27mZ!wpWNp52zMCpy97YNsKxW5Uro6e*EuKMHza2BT0rdiK3TUnX1axGba7V7FLGENoQJruKYgrMoWIp01TNBwwg2gMZdSuT5jaiocN5pm4L0TbHFGQISainpst!9VeOqh83R85eeiQZ!YsuTYKeYVSA3JvwweuiQ5MBqFAn2AzgRmu5X0FeUDynjrGOhWwgD5FJiBoI9zW2LTKPBOf12tq4gJaajtFwFZG7SEO8wuaOq*cYqnMcYyqisz8MJNHkVVLXanno1vDR*c7qSyHW6eTDAk*NZbyYXJU6FZHlWB7se8sgYlDGLZSDLVWfhHvNuLqsnhyTnVhceZELZn*9DpRmv62eBPZtFNpEu*rp3K8vVUOljCgHIR639dLh4Gw4W9DHHT2ZRhFcn7vz9Pj4dwIatAO2tCe5pEIIo07lKYsKh1N*O2xxehl0AbkqW**WoJzBmXusP1ifFgxMqDAS4$\",\"expiry\":\"2021-03-12T15:09:41.401376-07:00\"}\n",
            "drive_id = df92e9667c24698\n",
            "drive_type = personal\n",
            "--------------------\n",
            "y) Yes this is OK (default)\n",
            "e) Edit this remote\n",
            "d) Delete this remote\n",
            "y/e/d> y\n",
            "Current remotes:\n",
            "\n",
            "Name                 Type\n",
            "====                 ====\n",
            "OneDrive             onedrive\n",
            "\n",
            "e) Edit existing remote\n",
            "n) New remote\n",
            "d) Delete remote\n",
            "r) Rename remote\n",
            "c) Copy remote\n",
            "s) Set configuration password\n",
            "q) Quit config\n",
            "e/n/d/r/c/s/q> q\n"
          ],
          "name": "stdout"
        }
      ]
    },
    {
      "cell_type": "code",
      "metadata": {
        "colab": {
          "base_uri": "https://localhost:8080/"
        },
        "id": "uTiVuHtrV45Q",
        "outputId": "9f2a56b2-9265-44f3-9b74-3e7598f9bd81"
      },
      "source": [
        "!sudo mkdir /content/OneDrive\r\n",
        "!nohup rclone --vfs-cache-mode writes mount OneDrive: /content/OneDrive &"
      ],
      "execution_count": 29,
      "outputs": [
        {
          "output_type": "stream",
          "text": [
            "nohup: appending output to 'nohup.out'\n"
          ],
          "name": "stdout"
        }
      ]
    },
    {
      "cell_type": "markdown",
      "metadata": {
        "id": "shaE4rrmWz1s"
      },
      "source": [
        "# Dependencies"
      ]
    },
    {
      "cell_type": "code",
      "metadata": {
        "id": "sSL-wyUEuuwK"
      },
      "source": [
        "import pandas as pd\r\n",
        "import numpy as np\r\n",
        "import os"
      ],
      "execution_count": 11,
      "outputs": []
    },
    {
      "cell_type": "markdown",
      "metadata": {
        "id": "zi1TWc8vBaCi"
      },
      "source": [
        "# Image Exploration"
      ]
    },
    {
      "cell_type": "code",
      "metadata": {
        "id": "Rf5eoEtvBgwC"
      },
      "source": [
        "trainPath = 'dsc-mod-4-project-v2-1-onl01-dtsc-pt-041320/data/chest_xray/train/'\r\n",
        "testPath ='dsc-mod-4-project-v2-1-onl01-dtsc-pt-041320/data/chest_xray/test/'\r\n",
        "\r\n",
        "# Create an image generator for the training set. We are spliting a validation set off of this training set\r\n",
        "trainGenerator0 = ImageDataGenerator(\r\n",
        "    rescale = 1./255\r\n",
        ")\r\n",
        " \r\n",
        "# Create an image generator for the training set. We are spliting a validation set off of this training set\r\n",
        "testGenerator0 = ImageDataGenerator(\r\n",
        "    validation_split=.3,\r\n",
        "    rescale = 1./255\r\n",
        ")\r\n",
        "\r\n",
        "# The flowed data from the directory for the training set. This will be fed directly into the neural networks\r\n",
        "train0 = trainGenerator0.flow_from_directory(\r\n",
        "    trainPath,  \r\n",
        "    class_mode='binary',\r\n",
        "    target_size=(256,256),\r\n",
        "    batch_size = 5216,\r\n",
        "    shuffle = True)\r\n",
        " \r\n",
        "# The split off validation set. This is fed directly into the neural networks\r\n",
        "val0 = testGenerator0.flow_from_directory(\r\n",
        "    testPath, \r\n",
        "    class_mode='binary',\r\n",
        "    target_size=(256,256),\r\n",
        "    batch_size = 187,\r\n",
        "    subset='validation',\r\n",
        "    shuffle = True\r\n",
        ")\r\n",
        " \r\n",
        "# The flowed data from the directory for the testing set. This will be fed directly into the neural networks\r\n",
        "test0 = testGenerator0.flow_from_directory(\r\n",
        "    testPath, \r\n",
        "    class_mode='binary',\r\n",
        "    target_size=(256,256),\r\n",
        "    batch_size = 437,\r\n",
        "    subset = 'training',\r\n",
        "    shuffle = True\r\n",
        ")\r\n",
        "\r\n",
        "trainImages, trainImageLabels = next(train0)\r\n",
        "valImages, valImageLabels = next(val0)\r\n",
        "testImages, testImageLabels = next(test0)"
      ],
      "execution_count": null,
      "outputs": []
    },
    {
      "cell_type": "markdown",
      "metadata": {
        "id": "AkIvIVX1BeMj"
      },
      "source": [
        "# Other Shit"
      ]
    },
    {
      "cell_type": "code",
      "metadata": {
        "id": "8uInL1f_vDGK"
      },
      "source": [
        "#!/bin/python3\r\n",
        "\r\n",
        "import math\r\n",
        "import os\r\n",
        "import random\r\n",
        "import re\r\n",
        "import sys\r\n",
        "\r\n",
        "#\r\n",
        "# Complete the 'diagonalDifference' function below.\r\n",
        "#\r\n",
        "# The function is expected to return an INTEGER.\r\n",
        "# The function accepts 2D_INTEGER_ARRAY arr as parameter.\r\n",
        "#\r\n",
        "def staircase(n):\r\n",
        "    theString = '#'\r\n",
        "    theSpace = ' '\r\n",
        "    i= n-1\r\n",
        "    while i >= 0:\r\n",
        "        \r\n",
        "        levelN = ''.join([(n-i)*char for char in theString])\r\n",
        "        print(levelN)\r\n",
        "        i-=1"
      ],
      "execution_count": 59,
      "outputs": []
    },
    {
      "cell_type": "code",
      "metadata": {
        "colab": {
          "base_uri": "https://localhost:8080/"
        },
        "id": "WtjWNcrH1_Qt",
        "outputId": "a701317e-9875-489c-8d98-376bb502791f"
      },
      "source": [
        "staircase(6)"
      ],
      "execution_count": 60,
      "outputs": [
        {
          "output_type": "stream",
          "text": [
            "#\n",
            "##\n",
            "###\n",
            "####\n",
            "#####\n",
            "######\n"
          ],
          "name": "stdout"
        }
      ]
    },
    {
      "cell_type": "code",
      "metadata": {
        "colab": {
          "base_uri": "https://localhost:8080/"
        },
        "id": "o-5HQcKR2OsE",
        "outputId": "41b55cf7-6e1a-4b6c-a190-a6d7b99629da"
      },
      "source": [
        "arr = [[1,1,1],[1,1,1],[1,1,1]]\r\n",
        "len(arr)"
      ],
      "execution_count": 5,
      "outputs": [
        {
          "output_type": "execute_result",
          "data": {
            "text/plain": [
              "3"
            ]
          },
          "metadata": {
            "tags": []
          },
          "execution_count": 5
        }
      ]
    },
    {
      "cell_type": "code",
      "metadata": {
        "id": "GLqc8sPo2Lzu"
      },
      "source": [
        ""
      ],
      "execution_count": null,
      "outputs": []
    }
  ]
}