{
  "nbformat": 4,
  "nbformat_minor": 0,
  "metadata": {
    "colab": {
      "name": "Hotel-ID-to-combat-human-trafficking-2021-fgvc8",
      "provenance": [],
      "authorship_tag": "ABX9TyN3MOonfJM/tkuBJ0UHGo4n",
      "include_colab_link": true
    },
    "kernelspec": {
      "name": "python3",
      "display_name": "Python 3"
    },
    "language_info": {
      "name": "python"
    }
  },
  "cells": [
    {
      "cell_type": "markdown",
      "metadata": {
        "id": "view-in-github",
        "colab_type": "text"
      },
      "source": [
        "<a href=\"https://colab.research.google.com/github/minthammock-development/kaggle_competitions/blob/dev/Hotel_ID_to_combat_human_trafficking_2021_fgvc8.ipynb\" target=\"_parent\"><img src=\"https://colab.research.google.com/assets/colab-badge.svg\" alt=\"Open In Colab\"/></a>"
      ]
    },
    {
      "cell_type": "markdown",
      "metadata": {
        "id": "G5rMgimptETH"
      },
      "source": [
        "# Project Overview"
      ]
    },
    {
      "cell_type": "code",
      "metadata": {
        "id": "8Y5MvloatGdK"
      },
      "source": [
        ""
      ],
      "execution_count": null,
      "outputs": []
    }
  ]
}